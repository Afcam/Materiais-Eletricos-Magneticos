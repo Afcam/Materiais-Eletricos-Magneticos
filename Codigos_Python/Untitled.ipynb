{
 "cells": [
  {
   "cell_type": "markdown",
   "metadata": {},
   "source": [
    "# Experimento 6\n",
    "## Diodo Zener - Melhorado\n"
   ]
  },
  {
   "cell_type": "code",
   "execution_count": 185,
   "metadata": {},
   "outputs": [],
   "source": [
    "import numpy as np\n",
    "import matplotlib.pyplot as plt\n",
    "\n",
    "from numpy import sin, pi,cos\n",
    "kb = 8.617*10**(-5) #eV/K\n",
    "\n",
    "%matplotlib inline"
   ]
  },
  {
   "cell_type": "code",
   "execution_count": 186,
   "metadata": {},
   "outputs": [],
   "source": [
    "def mmq(x, y, f):\n",
    "    \"\"\"\n",
    "    Encontrar os valores a e b que melhor aproximam a função genérica f(x):\n",
    "    f(x) = c0 * f[0](x) + c1 * f[1](x) + ... + c{M-1} * f[M-1](x)\n",
    "    aos pontos (x, y) dados, utilizando o Método dos Mínimos Quadrados Genérico.\n",
    "\n",
    "    Args:\n",
    "        x: pontos no eixo x.\n",
    "        y: pontos no eixo y.\n",
    "        f: funções de x genéricas.\n",
    "    \n",
    "    Returns:\n",
    "        Retorna os valores dos coeficientes C no formato: [c0, c1, ..., c{M-1}].\n",
    "    \"\"\"\n",
    "    \n",
    "    # Definindo a matriz F\n",
    "    F = np.ones((len(x), len(f)))\n",
    "    for j in range(len(f)):\n",
    "        F[:,j] = f[j](x)\n",
    "    \n",
    "    # Definindo a matriz à esquerda\n",
    "    left = np.dot(F.transpose(), F)\n",
    "    \n",
    "    # Definindo o vetor à direita\n",
    "    right = np.dot(F.transpose(), y)\n",
    "    \n",
    "    # Resolvendo o sistema linear para encontrar os valores dos coeficientes C\n",
    "    C = np.linalg.solve(left, right)\n",
    "    return C"
   ]
  },
  {
   "cell_type": "code",
   "execution_count": 187,
   "metadata": {},
   "outputs": [],
   "source": [
    "def line(x, y):\n",
    "    \"\"\"\n",
    "    Encontrar os valores a e b que melhor aproximam a reta f(x) = ax + b\n",
    "    aos pontos (x, y) dados, utilizando o Método dos Mínimos Quadrados.\n",
    "\n",
    "    Args:\n",
    "        x: pontos no eixo x.\n",
    "        y: pontos no eixo y.\n",
    "    \n",
    "    Returns:\n",
    "        Retorna os valores de a e b no formato: [a, b].\n",
    "    \"\"\"\n",
    "    \n",
    "    # Definindo a matriz à esquerda\n",
    "    left = np.array([[np.sum(x*x), np.sum(x) ],\n",
    "                     [np.sum(x)  , x.shape[0]]])\n",
    "    \n",
    "    # Definindo o vetor à direita\n",
    "    right = np.array([[np.sum(x*y)],\n",
    "                      [np.sum(y)  ]])\n",
    "    \n",
    "    # Resolvendo o sistema linear para encontrar os valores de a e b\n",
    "    [a, b] = np.linalg.solve(left, right)\n",
    "    return [a, b]"
   ]
  },
  {
   "cell_type": "markdown",
   "metadata": {},
   "source": [
    "## Dados Experimentais"
   ]
  },
  {
   "cell_type": "code",
   "execution_count": 188,
   "metadata": {},
   "outputs": [],
   "source": [
    "#Dados do Experimento\n",
    "\n",
    "# Para 1k- 1Quadrante\n",
    "Va1 = np.array([1, 2, 3, 4, 5, 5.5, 6, 9, 10, 11, 12]) #v\n",
    "Vb1 = np.array([0.271, 1.225, 2.22, 3.20, 4.20, 4.69,  5.20, 8.20, 9.20, 10.20, 11.20]) #v\n",
    "i1 = (Vb1/987)\n",
    "Vab1 = Va1-Vb1\n",
    "\n",
    "# Para 1M- 3QUadrante\n",
    "Va2 = np.array([5, 7, 9, 9.52, 9.98, 11, 12 ]) #v\n",
    "Vb2 = np.array([0.0004, 0.0005, 0.0007,0.001, 0.0152, 0.852, 1.840]) #v\n",
    "i2 = -(Vb2/(1010*10**3))\n",
    "Vab2 = -(Va2-Vb2)\n",
    "\n",
    "# Para 1k- 3QUadrante\n",
    "Va3 = np.array([9.5, 10, 11, 11.97, 13.02, 14.01]) #v\n",
    "Vb3 = np.array([0, 0, 0.803, 1.752, 2.74, 3.70]) #v\n",
    "i3 = -(Vb3/(987))\n",
    "Vab3 = -(Va3-Vb3)"
   ]
  },
  {
   "cell_type": "markdown",
   "metadata": {},
   "source": [
    "## 1 Quadrante $V_{DC} > 0$"
   ]
  },
  {
   "cell_type": "code",
   "execution_count": 189,
   "metadata": {},
   "outputs": [
    {
     "name": "stdout",
     "output_type": "stream",
     "text": [
      "Valor de C: [2.17194416e-16]\n"
     ]
    },
    {
     "data": {
      "image/png": "[encoded data removed]",
      "text/plain": [
       "<matplotlib.figure.Figure at 0x2cd9db17b70>"
      ]
     },
     "metadata": {},
     "output_type": "display_data"
    }
   ],
   "source": [
    "#Constantes\n",
    "Ut=0.0258\n",
    "def f1(x):\n",
    "    return np.exp(x/Ut) -1\n",
    "f = [f1]\n",
    "\n",
    "#Ajuste por MMQ\n",
    "x=Vab1\n",
    "y=i1\n",
    "C = mmq(x,y,f)\n",
    "print (\"Valor de C:\", C)\n",
    "\n",
    "## Gerendo o Vetor Maior\n",
    "X = np.linspace(0.0001, np.nanmax(x), 100)\n",
    "fx = np.zeros((len(X)))\n",
    "for j in range(len(f)):\n",
    "    fx = fx + C[j] * f[j](X)\n",
    "    \n",
    "#Grafico\n",
    "plt.grid(\"True\")\n",
    "plt.plot(x,y , 'bo')\n",
    "plt.plot(X,fx , 'k',linewidth=2,label=\"V>0\")\n",
    "#Legendas\n",
    "plt.ylabel('Corrente [A]')\n",
    "plt.xlabel('Voltagem [V]')\n",
    "plt.legend(['Pontos Experimentais','Curva Ajustada'])\n",
    "plt.axis('auto')\n",
    "plt.grid(True)\n",
    "plt.show()\n",
    "\n",
    "## Variaveis para o Grafico Final\n",
    "X = np.linspace(0.0001, np.nanmax(x), 100)\n",
    "fx = np.zeros((len(X)))\n",
    "for j in range(len(f)):\n",
    "    fx = fx + C[j] * f[j](X)\n",
    "    \n",
    "Ax = X\n",
    "Ay = fx\n",
    "C1 = C"
   ]
  },
  {
   "cell_type": "markdown",
   "metadata": {},
   "source": [
    "## 3 Quadrante $V_Z< V_{DC}<0$"
   ]
  },
  {
   "cell_type": "code",
   "execution_count": 190,
   "metadata": {},
   "outputs": [
    {
     "name": "stdout",
     "output_type": "stream",
     "text": [
      "Valor de C: [-3.42534197e-09]\n"
     ]
    },
    {
     "data": {
      "image/png": "[encoded data removed]",
      "text/plain": [
       "<matplotlib.figure.Figure at 0x2cd9e368668>"
      ]
     },
     "metadata": {},
     "output_type": "display_data"
    },
    {
     "name": "stdout",
     "output_type": "stream",
     "text": [
      "[-3.96039604e-10 -4.95049505e-10 -6.93069307e-10 -9.90099010e-10\n",
      " -1.50495050e-08 -8.43564356e-07 -1.82178218e-06]\n"
     ]
    }
   ],
   "source": [
    "# Constantes\n",
    "Ut=0.0258\n",
    "Vz = 10\n",
    "\n",
    "def f1(x):\n",
    "    return np.exp(-(x+Vz)/Ut) -1\n",
    "f = [f1]\n",
    "\n",
    "#Ajuste por MMQ\n",
    "x=Vab2\n",
    "y=i2\n",
    "C = mmq(x,y,f)\n",
    "print (\"Valor de C:\",C)\n",
    "\n",
    "## Gerendo o Vetor Maior\n",
    "X = np.linspace(-5, np.nanmin(x), 1000)\n",
    "fx = np.zeros((len(X)))\n",
    "for j in range(len(f)):\n",
    "    fx = fx + C[j] * f[j](X)\n",
    "    \n",
    "#Grafico\n",
    "plt.grid(\"True\")\n",
    "plt.plot(x,y , 'bo')\n",
    "plt.plot(X,fx , 'k',linewidth=2,label=\"V<Vz\")\n",
    "#Legendas\n",
    "plt.ylabel('Corrente [A]')\n",
    "plt.xlabel('Voltagem [V]')\n",
    "plt.legend(['Pontos Experimentais','Curva Ajustada'])\n",
    "plt.axis('auto')\n",
    "plt.grid(True)\n",
    "plt.show()\n",
    "print(i2)\n",
    "## Variaveis para o Grafico Final\n",
    "X = np.linspace(0.1, -10, 1000)\n",
    "fx = np.zeros((len(X)))\n",
    "for j in range(len(f)):\n",
    "    fx = fx + C[j] * f[j](X)\n",
    "Bx = X\n",
    "By = fx\n",
    "C2 = C"
   ]
  },
  {
   "cell_type": "markdown",
   "metadata": {},
   "source": [
    "## 3 Quadrante $V_{DC} < V_Z$"
   ]
  },
  {
   "cell_type": "code",
   "execution_count": 191,
   "metadata": {},
   "outputs": [
    {
     "name": "stdout",
     "output_type": "stream",
     "text": [
      "Valor de C: [-2.57528169e-08]\n"
     ]
    },
    {
     "data": {
      "image/png": "[encoded data removed]",
      "text/plain": [
       "<matplotlib.figure.Figure at 0x2cd9de7ee10>"
      ]
     },
     "metadata": {},
     "output_type": "display_data"
    }
   ],
   "source": [
    "# Constantes\n",
    "Ut=0.0258\n",
    "Vz = 10\n",
    "\n",
    "def f1(x):\n",
    "    return np.exp(-(x+Vz)/Ut) -1\n",
    "f = [f1]\n",
    "\n",
    "#Ajuste por MMQ\n",
    "x=Vab3\n",
    "y=i3\n",
    "C = mmq(x,y,f)\n",
    "print (\"Valor de C:\",C)\n",
    "\n",
    "## Gerendo o Vetor Maior\n",
    "X = np.linspace(-9.5, np.nanmin(x), 1000)\n",
    "fx = np.zeros((len(X)))\n",
    "for j in range(len(f)):\n",
    "    fx = fx + C[j] * f[j](X)\n",
    "    \n",
    "#Grafico\n",
    "plt.grid(\"True\")\n",
    "plt.plot(x,y , 'bo')\n",
    "plt.plot(X,fx , 'k',linewidth=2,label=\"V<Vz\")\n",
    "#Legendas\n",
    "plt.ylabel('Corrente [A]')\n",
    "plt.xlabel('Voltagem [V]')\n",
    "plt.legend(['Pontos Experimentais','Curva Ajustada'])\n",
    "plt.axis('auto')\n",
    "plt.grid(True)\n",
    "plt.show()\n",
    "## Variaveis para o Grafico Final\n",
    "\n",
    "X = np.linspace(-10, np.nanmin(x), 1000)\n",
    "fx = np.zeros((len(X)))\n",
    "for j in range(len(f)):\n",
    "    fx = fx + C[j] * f[j](X)\n",
    "Cx = X\n",
    "Cy = fx\n",
    "C3 = C"
   ]
  },
  {
   "cell_type": "markdown",
   "metadata": {},
   "source": [
    "# Grafico Final"
   ]
  },
  {
   "cell_type": "code",
   "execution_count": 192,
   "metadata": {},
   "outputs": [
    {
     "data": {
      "image/png": "[encoded data removed]",
      "text/plain": [
       "<matplotlib.figure.Figure at 0x2cd9dcbd668>"
      ]
     },
     "metadata": {},
     "output_type": "display_data"
    }
   ],
   "source": [
    "plt.plot(Ax,Ay,'c', label=\"line1\")\n",
    "plt.plot(Bx,By, 'g', label=\"line2\")\n",
    "plt.plot(Cx,Cy,'r', label=\"line3\")\n",
    "# plt.axhline( color='k')\n",
    "plt.axvline(color='k')\n",
    "# plt.plot(Ax,Ay,label =\"line1\",Bx,By,label =\"line2\",Cx,Cy,label =\"line3\" , 'k',)\n",
    "\n",
    "#Legendas\n",
    "plt.ylabel('Corrente [A]')\n",
    "plt.xlabel('Voltagem [V]')\n",
    "plt.legend(['Forward Current','Leakage Current','Avalanche Current'])\n",
    "# plt.legend((line1, line2, line3), ('label1', 'label2', 'label3'))\n",
    "plt.axis('auto')\n",
    "plt.grid(True)\n",
    "plt.xticks(np.arange(-11, 2, 1))\n",
    "plt.show()"
   ]
  },
  {
   "cell_type": "code",
   "execution_count": 193,
   "metadata": {},
   "outputs": [
    {
     "name": "stdout",
     "output_type": "stream",
     "text": [
      "[0.00027457 0.00124113 0.00224924 0.00324215 0.00425532 0.00475177\n",
      " 0.00526849 0.008308   0.00932118 0.01033435 0.01134752]\n",
      "[-3.96039604e-10 -4.95049505e-10 -6.93069307e-10 -9.90099010e-10\n",
      " -1.50495050e-08 -8.43564356e-07 -1.82178218e-06]\n",
      "[-0.         -0.         -0.00081358 -0.00177508 -0.00277609 -0.00374873]\n"
     ]
    }
   ],
   "source": [
    "print (i1)\n",
    "print (i2)\n",
    "print (i3)"
   ]
  },
  {
   "cell_type": "code",
   "execution_count": 194,
   "metadata": {},
   "outputs": [
    {
     "name": "stdout",
     "output_type": "stream",
     "text": [
      "SD [2.17194416e-16]\n",
      "SDZ [-3.42534197e-09]\n",
      "SDZ [-2.57528169e-08]\n"
     ]
    }
   ],
   "source": [
    "print(\"SD\",C1)\n",
    "print(\"SDZ\",C2)\n",
    "print(\"SDZ\",C3)"
   ]
  },
  {
   "cell_type": "code",
   "execution_count": 234,
   "metadata": {},
   "outputs": [
    {
     "name": "stdout",
     "output_type": "stream",
     "text": [
      "25.827090815802887\n",
      "10874.766000000001\n"
     ]
    },
    {
     "data": {
      "text/plain": [
       "array([ -9.5  , -10.   , -10.197, -10.218, -10.28 , -10.31 ])"
      ]
     },
     "execution_count": 234,
     "metadata": {},
     "output_type": "execute_result"
    }
   ],
   "source": [
    "RD = (Vab1[2] - Vab1[0])/(i1[2]-i1[0]) \n",
    "print(RD)\n",
    "\n",
    "RZ = (Vab3[3] - Vab1[4])/(i1[3]-i1[4]) \n",
    "print(RZ)\n",
    "Vab3\n"
   ]
  }
 ],
 "metadata": {
  "kernelspec": {
   "display_name": "Python 3",
   "language": "python",
   "name": "python3"
  },
  "language_info": {
   "codemirror_mode": {
    "name": "ipython",
    "version": 3
   },
   "file_extension": ".py",
   "mimetype": "text/x-python",
   "name": "python",
   "nbconvert_exporter": "python",
   "pygments_lexer": "ipython3",
   "version": "3.6.4"
  }
 },
 "nbformat": 4,
 "nbformat_minor": 2
}
