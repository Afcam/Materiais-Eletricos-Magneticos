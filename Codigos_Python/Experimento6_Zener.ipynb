{
 "cells": [
  {
   "cell_type": "markdown",
   "metadata": {},
   "source": [
    "# EXPERIMENTO 6\n",
    "## Diodo Zener"
   ]
  },
  {
   "cell_type": "code",
   "execution_count": 95,
   "metadata": {},
   "outputs": [],
   "source": [
    "import numpy as np\n",
    "import matplotlib.pyplot as plt\n",
    "\n",
    "from numpy import sin, pi,cos\n",
    "kb = 8.617*10**(-5) #eV/K\n",
    "\n",
    "%matplotlib inline"
   ]
  },
  {
   "cell_type": "code",
   "execution_count": 96,
   "metadata": {},
   "outputs": [],
   "source": [
    "def mmq(x, y, f):\n",
    "    \"\"\"\n",
    "    Encontrar os valores a e b que melhor aproximam a função genérica f(x):\n",
    "    f(x) = c0 * f[0](x) + c1 * f[1](x) + ... + c{M-1} * f[M-1](x)\n",
    "    aos pontos (x, y) dados, utilizando o Método dos Mínimos Quadrados Genérico.\n",
    "\n",
    "    Args:\n",
    "        x: pontos no eixo x.\n",
    "        y: pontos no eixo y.\n",
    "        f: funções de x genéricas.\n",
    "    \n",
    "    Returns:\n",
    "        Retorna os valores dos coeficientes C no formato: [c0, c1, ..., c{M-1}].\n",
    "    \"\"\"\n",
    "    \n",
    "    # Definindo a matriz F\n",
    "    F = np.ones((len(x), len(f)))\n",
    "    for j in range(len(f)):\n",
    "        F[:,j] = f[j](x)\n",
    "    \n",
    "    # Definindo a matriz à esquerda\n",
    "    left = np.dot(F.transpose(), F)\n",
    "    \n",
    "    # Definindo o vetor à direita\n",
    "    right = np.dot(F.transpose(), y)\n",
    "    \n",
    "    # Resolvendo o sistema linear para encontrar os valores dos coeficientes C\n",
    "    C = np.linalg.solve(left, right)\n",
    "    return C"
   ]
  },
  {
   "cell_type": "code",
   "execution_count": 97,
   "metadata": {},
   "outputs": [],
   "source": [
    "def f1(x):\n",
    "    return cos(x)\n",
    "def f2(x):\n",
    "    return 1\n",
    "\n",
    "def f3(x):\n",
    "    return 1\n",
    "\n",
    "f = [f1, f2]"
   ]
  },
  {
   "cell_type": "code",
   "execution_count": 363,
   "metadata": {},
   "outputs": [
    {
     "name": "stdout",
     "output_type": "stream",
     "text": [
      "Corrente 1\n",
      "[0.00027457 0.00124113 0.00224924 0.00324215 0.00425532 0.00475177\n",
      " 0.00526849 0.008308   0.00932118 0.01033435 0.01134752]\n",
      "Corrente 2\n",
      "[3.96039604e-10 4.95049505e-10 6.93069307e-10 9.90099010e-10\n",
      " 1.50495050e-08 8.43564356e-07 1.82178218e-06 2.80198020e-06]\n",
      "Corrente 3\n",
      "[0.         0.         0.00081358 0.00177508 0.00277609 0.00374873]\n"
     ]
    },
    {
     "data": {
      "image/png": "[encoded data removed]",
      "text/plain": [
       "<matplotlib.figure.Figure at 0x278509cb860>"
      ]
     },
     "metadata": {},
     "output_type": "display_data"
    }
   ],
   "source": [
    "#Dados do Experimento\n",
    "# Para 1k- 1Quadrante\n",
    "VA1 = np.array([1, 2, 3, 4, 5, 5.5, 6, 9, 10, 11, 12]) #v\n",
    "VB1 = np.array([0.271, 1.225, 2.22, 3.20, 4.20, 4.69,  5.20, 8.20, 9.20, 10.20, 11.20]) #v\n",
    "I1 = (VB1/987)\n",
    "VAB1 = VA1-VB1\n",
    "print(\"Corrente 1\")\n",
    "print(I1)\n",
    "\n",
    "# Para 1M- 3QUadrante\n",
    "VA2 = np.array([5, 7, 9, 9.52, 9.98, 11, 12, 12.90 ]) #v\n",
    "VB2 = np.array([0.0004, 0.0005, 0.0007,0.001, 0.0152, 0.852, 1.840, 2.83]) #v\n",
    "I2 = (VB2/(1010*10**3))\n",
    "Vz2 = -(VA2-VB2)\n",
    "print(\"Corrente 2\")\n",
    "print(I2)\n",
    "\n",
    "# Para 1k- 3QUadrante\n",
    "VA3 = np.array([9.5, 10, 11, 11.97, 13.02, 14.01]) #v\n",
    "VB3 = np.array([0, 0, 0.803, 1.752, 2.74, 3.70]) #v\n",
    "Vz3 = -(VA3-VB3)\n",
    "I3 = (VB3/(987))\n",
    "print(\"Corrente 3\")\n",
    "print(I3)\n",
    "\n",
    "# Plotando os Graficos\n",
    "\n",
    "#plt.axhline( color='k')\n",
    "#plt.axvline('0',color='k')\n",
    "#plt.plot(VA1-VB1,I1 , 'bo')\n",
    "plt.plot(Vz2,-I2 , 'go')\n",
    "#plt.plot(Vz3,-I3 , 'ro')\n",
    "plt.grid(True)"
   ]
  },
  {
   "cell_type": "code",
   "execution_count": 131,
   "metadata": {},
   "outputs": [],
   "source": [
    "def line(x, y):\n",
    "    \"\"\"\n",
    "    Encontrar os valores a e b que melhor aproximam a reta f(x) = ax + b\n",
    "    aos pontos (x, y) dados, utilizando o Método dos Mínimos Quadrados.\n",
    "\n",
    "    Args:\n",
    "        x: pontos no eixo x.\n",
    "        y: pontos no eixo y.\n",
    "    \n",
    "    Returns:\n",
    "        Retorna os valores de a e b no formato: [a, b].\n",
    "    \"\"\"\n",
    "    \n",
    "    # Definindo a matriz à esquerda\n",
    "    left = np.array([[np.sum(x*x), np.sum(x) ],\n",
    "                     [np.sum(x)  , x.shape[0]]])\n",
    "    \n",
    "    # Definindo o vetor à direita\n",
    "    right = np.array([[np.sum(x*y)],\n",
    "                      [np.sum(y)  ]])\n",
    "    \n",
    "    # Resolvendo o sistema linear para encontrar os valores de a e b\n",
    "    [a, b] = np.linalg.solve(left, right)\n",
    "    return [a, b]"
   ]
  },
  {
   "cell_type": "code",
   "execution_count": 364,
   "metadata": {},
   "outputs": [
    {
     "name": "stdout",
     "output_type": "stream",
     "text": [
      "R = [3.73925383]\n"
     ]
    },
    {
     "data": {
      "image/png": "[encoded data removed]",
      "text/plain": [
       "<matplotlib.figure.Figure at 0x2784e307b00>"
      ]
     },
     "metadata": {},
     "output_type": "display_data"
    }
   ],
   "source": [
    "y = VAB1\n",
    "x = I1\n",
    "[a, b] = line(x, y)\n",
    "f = a * x + b\n",
    "#Grafico    \n",
    "plt.plot(x, f, 'k')\n",
    "plt.plot(x, y, 'bo')\n",
    "print(\"R =\",a)\n",
    "plt.grid(True)"
   ]
  },
  {
   "cell_type": "code",
   "execution_count": 133,
   "metadata": {},
   "outputs": [
    {
     "name": "stdout",
     "output_type": "stream",
     "text": [
      "Corrente 3\n",
      "[7.95049505e-07 1.73465347e-06 2.71287129e-06 3.66336634e-06]\n",
      "R = [2.31073538e-05]\n",
      "[2.31073538e-05] [0.00023465]\n",
      "[-10.15489604]\n"
     ]
    },
    {
     "data": {
      "image/png": "[encoded data removed]",
      "text/plain": [
       "<matplotlib.figure.Figure at 0x2784c7fa128>"
      ]
     },
     "metadata": {},
     "output_type": "display_data"
    }
   ],
   "source": [
    "# Para 1k- 3QUadrante\n",
    "VA3 = np.array([ 11, 11.97, 13.02, 14.01]) #v\n",
    "VB3 = np.array([0.803, 1.752, 2.74, 3.70]) #v\n",
    "Vz3 = -(VA3-VB3)\n",
    "I3 = (VB3/(1010*10**3))\n",
    "print(\"Corrente 3\")\n",
    "print(I3)\n",
    "\n",
    "x = Vz3\n",
    "y = -I3\n",
    "[a, b] = line(x, y)\n",
    "f = a * x + b\n",
    "#Grafico    \n",
    "plt.plot(x, f, 'k')\n",
    "plt.plot(x, y, 'bo')\n",
    "plt.xlim(-12,-9) \n",
    "print(\"R =\",a)\n",
    "plt.grid(True)\n",
    "print(a,b)\n",
    "Vzener = (0-b)/a\n",
    "\n",
    "print (Vzener)"
   ]
  },
  {
   "cell_type": "code",
   "execution_count": 134,
   "metadata": {},
   "outputs": [],
   "source": [
    "Ut=0.0258\n",
    "def f1(x):\n",
    "    return np.exp(x/Ut) -1\n",
    "\n",
    "\n",
    "def f3(x):\n",
    "    return 1\n",
    "\n",
    "f = [f1]"
   ]
  },
  {
   "cell_type": "code",
   "execution_count": 158,
   "metadata": {},
   "outputs": [
    {
     "name": "stdout",
     "output_type": "stream",
     "text": [
      "Corrente 1\n",
      "[0.00027457 0.00124113 0.00224924 0.00324215 0.00425532 0.00475177\n",
      " 0.00526849 0.008308   0.00932118 0.01033435 0.01134752]\n"
     ]
    }
   ],
   "source": [
    "\n",
    "\n"
   ]
  },
  {
   "cell_type": "code",
   "execution_count": 249,
   "metadata": {},
   "outputs": [
    {
     "name": "stdout",
     "output_type": "stream",
     "text": [
      "Corrente 1\n",
      "[0.00027457 0.00124113 0.00224924 0.00324215 0.00425532 0.00475177\n",
      " 0.00526849 0.008308   0.00932118 0.01033435 0.01134752]\n",
      "Valor de C: [2.17194416e-16]\n",
      "erro = 0.002888346664296442\n"
     ]
    },
    {
     "data": {
      "image/png": "[encoded data removed]",
      "text/plain": [
       "<matplotlib.figure.Figure at 0x2784f302198>"
      ]
     },
     "metadata": {},
     "output_type": "display_data"
    }
   ],
   "source": [
    "Ut=0.0258\n",
    "def f1(x):\n",
    "    return np.exp(x/Ut) -1\n",
    "f = [f1]\n",
    "\n",
    "# Para 1k- 1Quadrante\n",
    "Va1 = np.array([1, 2, 3, 4, 5, 5.5, 6, 9, 10, 11, 12]) #v\n",
    "Vb1 = np.array([0.271, 1.225, 2.22, 3.20, 4.20, 4.69,  5.20, 8.20, 9.20, 10.20, 11.20]) #v\n",
    "I1 = (VB1/987)\n",
    "VAB1 = Va1 - Vb1\n",
    "print(\"Corrente 1\")\n",
    "print(I1)\n",
    "\n",
    "# plt.plot(x, fx, '-k')\n",
    "x=VAB1\n",
    "y=I1\n",
    "\n",
    "C = mmq(x,y,f)\n",
    "print (\"Valor de C:\", C)\n",
    "\n",
    "#calculo do erro\n",
    "fe = np.zeros((len(x)))\n",
    "for j in range(len(f)):\n",
    "    fe = fe + C[j] * f[j](x)\n",
    "    \n",
    "Erro =  np.sqrt(np.sum((y-fe)**2)/ len(y))\n",
    "print(\"erro =\",Erro)\n",
    "    \n",
    "X = np.linspace(0.0001, np.nanmax(x), 100)\n",
    "# Z = np.linspace(4.9, 4.7, 100)\n",
    "fx = np.zeros((len(X)))\n",
    "for j in range(len(f)):\n",
    "    fx = fx + C[j] * f[j](X)\n",
    "    \n",
    "#Grafico\n",
    "plt.grid(\"True\")\n",
    "plt.plot(x,y , 'bo')\n",
    "plt.plot(X,fx , 'k',linewidth=2,label=\"V>0\")\n",
    "#Legendas\n",
    "# plt.title('Dispersão $V_1 = 5V$ ')\n",
    "plt.ylabel('Corrente [A]')\n",
    "plt.xlabel('Voltagem [V]')\n",
    "plt.grid(True)\n",
    "plt.legend(['Pontos Experimentais','Curva Ajustada'])\n",
    "# plt.axis([0, np.nanmax(x)*1.1 , 0 , 5])\n",
    "plt.axis('auto')\n",
    "plt.show()\n"
   ]
  },
  {
   "cell_type": "code",
   "execution_count": 361,
   "metadata": {},
   "outputs": [
    {
     "name": "stdout",
     "output_type": "stream",
     "text": [
      "Corrente 2\n",
      "[-3.96039604e-10 -4.95049505e-10 -6.93069307e-10 -9.90099010e-10\n",
      " -1.50495050e-08 -8.43564356e-07 -1.82178218e-06 -2.80198020e-06]\n",
      "erro = 0.002888346664296442\n",
      "R = [987.] [-2.66321679e-16]\n"
     ]
    },
    {
     "data": {
      "image/png": "[encoded data removed]",
      "text/plain": [
       "<matplotlib.figure.Figure at 0x2784f6cb0f0>"
      ]
     },
     "metadata": {},
     "output_type": "display_data"
    }
   ],
   "source": [
    "Ut=0.0258\n",
    "def f1(x):\n",
    "    return np.exp((x+Vz)/-Ut) -1\n",
    "f = [f1]\n",
    "# Para 1M- 3QUadrante\n",
    "VA2 = np.array([5, 7, 9, 9.52, 9.98, 11, 12, 12.90 ]) #v\n",
    "VB2 = np.array([0.0004, 0.0005, 0.0007,0.001, 0.0152, 0.852, 1.840, 2.83]) #v\n",
    "I2 = -(VB2/(1010*10**3))\n",
    "Vz2 = -(VA2-VB2)\n",
    "Vout = Va=VA2 - VB2\n",
    "print(\"Corrente 2\")\n",
    "print(I2)\n",
    "\n",
    "# plt.plot(x, fx, '-k')\n",
    "x=Vz2\n",
    "y=I2\n",
    "\n",
    "C = mmq(x,y,f)\n",
    "#print (\"Valor de C:\",C)\n",
    "\n",
    "#calculo do erro\n",
    "fe = np.zeros((len(x)))\n",
    "for j in range(len(f)):\n",
    "    fe = fe + C[j] * f[j](x)\n",
    "    \n",
    "#Erro =  np.sqrt(np.sum((y-fe)**2)/ len(y))\n",
    "print(\"erro =\",Erro)\n",
    "    \n",
    "X = np.linspace(0.0001, np.nanmin(x), 1000)\n",
    "# Z = np.linspace(4.9, 4.7, 100)\n",
    "fx = np.zeros((len(X)))\n",
    "for j in range(len(f)):\n",
    "    fx = fx + C[j] * f[j](X)\n",
    "    \n",
    "#Grafico\n",
    "\n",
    "\n",
    "#plt.plot(x,y , 'b^')\n",
    "#plt.plot(X,fx , 'k',label=\"V>0\")\n",
    "plt.figure(1)\n",
    "#Tensao Zener\n",
    "plt.subplot(131)\n",
    "plt.plot(I2,Vout , 'bo')\n",
    "plt.plot(I2,Vout , 'k')\n",
    "plt.title('Tensao Zener')\n",
    "plt.grid(True)\n",
    "plt.xticks([])\n",
    "plt.ylabel('Tensão [V]')\n",
    "plt.xlabel('Corrente')\n",
    "[a, b] = line(x, y)\n",
    "f = a * x + b\n",
    "\n",
    "#Tensao Zener\n",
    "plt.subplot(133)\n",
    "y = VB1\n",
    "x = I1\n",
    "[a, b] = line(x, y)\n",
    "f = a * x + b\n",
    "plt.title('Resistência do Diodo $R_D$')\n",
    "\n",
    "plt.ylabel('Resistencia [$\\Omega$]')\n",
    "plt.xlabel('Corrente')\n",
    "\n",
    "#Grafico\n",
    "\n",
    "plt.plot(x,(f-b)/x, 'k')\n",
    "plt.plot(x,(f-b)/x, 'bo')\n",
    "\n",
    "print(\"R =\",a,b)\n",
    "plt.grid(True)\n",
    "plt.xticks([])\n",
    "plt.yticks([800,900,987,1100,1200])\n",
    "plt.show()"
   ]
  },
  {
   "cell_type": "code",
   "execution_count": 347,
   "metadata": {},
   "outputs": [
    {
     "name": "stdout",
     "output_type": "stream",
     "text": [
      "Corrente 3\n",
      "[-0.         -0.         -0.00081358 -0.00177508 -0.00277609 -0.00374873]\n",
      "Valor de C: [-0.00041508]\n"
     ]
    },
    {
     "data": {
      "image/png": "[encoded data removed]",
      "text/plain": [
       "<matplotlib.figure.Figure at 0x2784f48e240>"
      ]
     },
     "metadata": {},
     "output_type": "display_data"
    }
   ],
   "source": [
    "Ut=0.0258\n",
    "Vz = 10.25\n",
    "def f1(x):\n",
    "    return np.exp(-(x+Vz)/Ut) -1\n",
    "f = [f1]\n",
    "# Para 1k- 3QUadrante\n",
    "VA3 = np.array([9.52, 10, 11, 11.97, 13.02, 14.01]) #v\n",
    "VB3 = np.array([0, 0, 0.803, 1.752, 2.74, 3.70]) #v\n",
    "Vz3 = -(VA3-VB3)\n",
    "I3 = -(VB3/(987))\n",
    "print(\"Corrente 3\")\n",
    "print(I3)\n",
    "\n",
    "# plt.plot(x, fx, '-k')\n",
    "x=Vz3\n",
    "y=I3\n",
    "\n",
    "C = mmq(x,y,f)\n",
    "print (\"Valor de C:\",C)\n",
    "\n",
    "#calculo do erro\n",
    "fe = np.zeros((len(x)))\n",
    "for j in range(len(f)):\n",
    "    fe = fe + C[j] * f[j](x)\n",
    "#    \n",
    "#Erro =  np.sqrt(np.sum((y-fe)**2)/ len(y))\n",
    "#print(\"erro =\",Erro)\n",
    "    \n",
    "X = np.linspace(-9, np.nanmin(x), 1000)\n",
    "# Z = np.linspace(4.9, 4.7, 100)\n",
    "fx = np.zeros((len(X)))\n",
    "for j in range(len(f)):\n",
    "    fx = fx + C[j] * f[j](X)\n",
    "    \n",
    "#Grafico\n",
    "plt.grid(\"True\")\n",
    "plt.plot(x,y , 'bo')\n",
    "plt.plot(X,fx , 'k',label=\"V>0\")\n",
    "plt.show()\n",
    "\n"
   ]
  },
  {
   "cell_type": "code",
   "execution_count": null,
   "metadata": {},
   "outputs": [],
   "source": [
    "\n",
    "Vs = np.array([4.30, 4.02, 3.30, 2.40, 1.399, 0.960, 0.670, 0.895, 1.491, 2.50, 3.41, 4.08,4.30]) #v\n",
    "theta = np.array([cos(0), cos(pi/6), cos(2*pi/6), cos(3*pi/6), cos(4*pi/6), cos(5*pi/6), cos(6*pi/6), cos(7*pi/6), cos(8*pi/6), cos(9*pi/6), cos(10*pi/6), cos(11*pi/6), cos(2*pi)]) #V\n",
    "print(theta)\n",
    "\n",
    "\n",
    "print(\"Bz\",Bz)\n",
    "\n",
    "# plt.plot(x, fx, '-k')\n",
    "x= (pi/6)*np.arange(0, 13)\n",
    "y=Vs\n",
    "# print(x)\n",
    "\n",
    "C = mmq(x,y, f)\n",
    "print (C)\n",
    "\n",
    "#calculo do erro\n",
    "fe = np.zeros((len(x)))\n",
    "for j in range(len(f)):\n",
    "    fe = fe + C[j] * f[j](x)\n",
    "    \n",
    "Erro =  np.sqrt(np.sum((y-fe)**2)/ len(y))\n",
    "print(\"erro =\",Erro)\n",
    "    \n",
    "X = np.linspace(-0.01, np.nanmax(x), 100)\n",
    "# Z = np.linspace(4.9, 4.7, 100)\n",
    "fx = np.zeros((len(X)))\n",
    "for j in range(len(f)):\n",
    "    fx = fx + C[j] * f[j](X)\n",
    "\n",
    "\n",
    "#Grafico    \n",
    "plt.plot(X,fx , '--k',label=\"cosine\")\n",
    "# plt.plot(X,fx +Erro , '--y',label=\"cosine\")\n",
    "plt.plot(x,Vs , 'bo')\n",
    "#Legendas\n",
    "# plt.title('Dispersão $V_1 = 5V$ ')\n",
    "plt.ylabel('$V_s [V]$')\n",
    "plt.xlabel('$ \\phi$')\n",
    "plt.grid(True)\n",
    "plt.legend(['Curva Ajustada','Pontos Experimentais'])\n",
    "# plt.axis([0, np.nanmax(x)*1.1 , 0 , 5])\n",
    "plt.xticks([ 0,pi/6,2*pi/6,3*pi/6,4*pi/6,5*pi/6,6*pi/6,7*pi/6,8*pi/6,9*pi/6,10*pi/6,11*pi/6, 2*pi],\n",
    "          [ r'$0$',r'$\\pi/6$', r'$\\pi/3$', r'$\\pi/2$', r'$2\\pi/3$', r'$5\\pi/6$', r'$\\pi$', r'$7\\pi/6$', r'$4\\pi/3$', r'$3\\pi/2$', r'$5\\pi/3$', r'$11\\pi/6$', r'$2\\pi$'])\n",
    "plt.axis('auto')\n",
    "plt.show()"
   ]
  }
 ],
 "metadata": {
  "kernelspec": {
   "display_name": "Python 3",
   "language": "python",
   "name": "python3"
  },
  "language_info": {
   "codemirror_mode": {
    "name": "ipython",
    "version": 3
   },
   "file_extension": ".py",
   "mimetype": "text/x-python",
   "name": "python",
   "nbconvert_exporter": "python",
   "pygments_lexer": "ipython3",
   "version": "3.6.4"
  }
 },
 "nbformat": 4,
 "nbformat_minor": 2
}
